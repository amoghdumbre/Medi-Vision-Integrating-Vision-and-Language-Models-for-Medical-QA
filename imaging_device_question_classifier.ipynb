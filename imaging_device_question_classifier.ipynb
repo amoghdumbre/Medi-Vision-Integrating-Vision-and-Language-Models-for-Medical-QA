{
 "cells": [
  {
   "cell_type": "markdown",
   "metadata": {},
   "source": [
    "## Classify questions\n",
    "This notebooks contains the research for finding questions that are asking about what imaging devices was used"
   ]
  },
  {
   "cell_type": "code",
   "execution_count": 111,
   "metadata": {},
   "outputs": [],
   "source": [
    "import os\n",
    "import pandas as pd\n",
    "from collections import namedtuple\n",
    "import matplotlib.pyplot as plt\n",
    "from tqdm import tqdm\n",
    "import time\n",
    "import multiprocessing\n",
    "from sklearn.model_selection import train_test_split\n",
    "from pre_processing.known_find_and_replace_items import imaging_devices\n",
    "from common.os_utils import File\n",
    "\n"
   ]
  },
  {
   "cell_type": "code",
   "execution_count": 133,
   "metadata": {},
   "outputs": [],
   "source": [
    "# %matplotlib notebook\n",
    "%matplotlib inline"
   ]
  },
  {
   "cell_type": "code",
   "execution_count": 110,
   "metadata": {},
   "outputs": [
    {
     "name": "stdout",
     "output_type": "stream",
     "text": [
      "C:\\Users\\avitu\\Documents\\GitHub\\VQA-MED\\VQA-MED\\VQA.Python\\data\\model_input.h5\n"
     ]
    }
   ],
   "source": [
    "data_path = 'C:\\\\Users\\\\avitu\\\\Documents\\\\GitHub\\\\VQA-MED\\\\VQA-MED\\\\VQA.Python\\\\data\\\\model_input.h5'            \n",
    "print (data_path)"
   ]
  },
  {
   "cell_type": "code",
   "execution_count": 98,
   "metadata": {},
   "outputs": [],
   "source": [
    "with pd.HDFStore(data_path) as store:\n",
    "    data = store['data']"
   ]
  },
  {
   "cell_type": "code",
   "execution_count": 138,
   "metadata": {},
   "outputs": [
    {
     "name": "stdout",
     "output_type": "stream",
     "text": [
      "5913\n"
     ]
    },
    {
     "data": {
      "text/html": [
       "<div>\n",
       "<style scoped>\n",
       "    .dataframe tbody tr th:only-of-type {\n",
       "        vertical-align: middle;\n",
       "    }\n",
       "\n",
       "    .dataframe tbody tr th {\n",
       "        vertical-align: top;\n",
       "    }\n",
       "\n",
       "    .dataframe thead th {\n",
       "        text-align: right;\n",
       "    }\n",
       "</style>\n",
       "<table border=\"1\" class=\"dataframe\">\n",
       "  <thead>\n",
       "    <tr style=\"text-align: right;\">\n",
       "      <th></th>\n",
       "      <th>index</th>\n",
       "      <th>image_name</th>\n",
       "      <th>question</th>\n",
       "      <th>answer</th>\n",
       "      <th>group</th>\n",
       "      <th>path</th>\n",
       "      <th>original_question</th>\n",
       "      <th>original_answer</th>\n",
       "      <th>tumor</th>\n",
       "      <th>hematoma</th>\n",
       "      <th>brain</th>\n",
       "      <th>abdomen</th>\n",
       "      <th>neck</th>\n",
       "      <th>liver</th>\n",
       "      <th>imaging_device</th>\n",
       "      <th>answer_embedding</th>\n",
       "      <th>question_embedding</th>\n",
       "    </tr>\n",
       "  </thead>\n",
       "  <tbody>\n",
       "    <tr>\n",
       "      <th>0</th>\n",
       "      <td>0</td>\n",
       "      <td>rjv03401.jpg</td>\n",
       "      <td>what does mri show?</td>\n",
       "      <td>tumor at tail pancreas</td>\n",
       "      <td>train</td>\n",
       "      <td>C:\\Users\\Public\\Documents\\Data\\2018\\VQAMed2018...</td>\n",
       "      <td>what does mri show?</td>\n",
       "      <td>lesion at tail of pancreas</td>\n",
       "      <td>True</td>\n",
       "      <td>False</td>\n",
       "      <td>False</td>\n",
       "      <td>False</td>\n",
       "      <td>False</td>\n",
       "      <td>False</td>\n",
       "      <td>mri</td>\n",
       "      <td>[[3.8335671424865723, 0.9851416349411011, 0.60...</td>\n",
       "      <td>[[3.8335671424865723, 0.9851416349411011, 0.60...</td>\n",
       "    </tr>\n",
       "    <tr>\n",
       "      <th>1</th>\n",
       "      <td>1</td>\n",
       "      <td>AIAN-14-313-g002.jpg</td>\n",
       "      <td>where does axial section mri abdomen show hypo...</td>\n",
       "      <td>distal pancreas</td>\n",
       "      <td>train</td>\n",
       "      <td>C:\\Users\\Public\\Documents\\Data\\2018\\VQAMed2018...</td>\n",
       "      <td>where does axial section mri abdomen show hypo...</td>\n",
       "      <td>in distal pancreas</td>\n",
       "      <td>False</td>\n",
       "      <td>False</td>\n",
       "      <td>False</td>\n",
       "      <td>True</td>\n",
       "      <td>False</td>\n",
       "      <td>False</td>\n",
       "      <td>mri</td>\n",
       "      <td>[[0.9880439043045044, 0.907943844795227, -1.30...</td>\n",
       "      <td>[[0.9880439043045044, 0.907943844795227, -1.30...</td>\n",
       "    </tr>\n",
       "    <tr>\n",
       "      <th>2</th>\n",
       "      <td>2</td>\n",
       "      <td>wjem-11-76f3.jpg</td>\n",
       "      <td>what do arrows denote  noncontrast ct pelvis?</td>\n",
       "      <td>complex fluid collection with layerg consisten...</td>\n",
       "      <td>train</td>\n",
       "      <td>C:\\Users\\Public\\Documents\\Data\\2018\\VQAMed2018...</td>\n",
       "      <td>what do the arrows denote in the noncontrast c...</td>\n",
       "      <td>complex fluid collection with layering consist...</td>\n",
       "      <td>False</td>\n",
       "      <td>True</td>\n",
       "      <td>False</td>\n",
       "      <td>False</td>\n",
       "      <td>False</td>\n",
       "      <td>False</td>\n",
       "      <td>ct</td>\n",
       "      <td>[[0.16135236620903015, -1.7424618005752563, -1...</td>\n",
       "      <td>[[0.16135236620903015, -1.7424618005752563, -1...</td>\n",
       "    </tr>\n",
       "    <tr>\n",
       "      <th>3</th>\n",
       "      <td>3</td>\n",
       "      <td>ccr30002-0045-f3.jpg</td>\n",
       "      <td>what was normal?</td>\n",
       "      <td>blood supply to bra</td>\n",
       "      <td>train</td>\n",
       "      <td>C:\\Users\\Public\\Documents\\Data\\2018\\VQAMed2018...</td>\n",
       "      <td>what was normal?</td>\n",
       "      <td>blood supply to the brain</td>\n",
       "      <td>False</td>\n",
       "      <td>False</td>\n",
       "      <td>False</td>\n",
       "      <td>False</td>\n",
       "      <td>False</td>\n",
       "      <td>False</td>\n",
       "      <td>ct</td>\n",
       "      <td>[[1.421677589416504, 1.1374449729919434, 0.465...</td>\n",
       "      <td>[[1.421677589416504, 1.1374449729919434, 0.465...</td>\n",
       "    </tr>\n",
       "    <tr>\n",
       "      <th>4</th>\n",
       "      <td>4</td>\n",
       "      <td>rjt01904.jpg</td>\n",
       "      <td>what shows evidence a contaed rupture?</td>\n",
       "      <td>repeat ct  abdomen</td>\n",
       "      <td>train</td>\n",
       "      <td>C:\\Users\\Public\\Documents\\Data\\2018\\VQAMed2018...</td>\n",
       "      <td>what shows evidence of a contained rupture?</td>\n",
       "      <td>repeat ct scan of the abdomen</td>\n",
       "      <td>False</td>\n",
       "      <td>False</td>\n",
       "      <td>False</td>\n",
       "      <td>True</td>\n",
       "      <td>False</td>\n",
       "      <td>False</td>\n",
       "      <td>ct</td>\n",
       "      <td>[[3.0298147201538086, -0.026108086109161377, 1...</td>\n",
       "      <td>[[3.0298147201538086, -0.026108086109161377, 1...</td>\n",
       "    </tr>\n",
       "    <tr>\n",
       "      <th>5</th>\n",
       "      <td>5</td>\n",
       "      <td>IJSS-7-2013-03-002-g002.jpg</td>\n",
       "      <td>what does preoperative ct demonstrate?</td>\n",
       "      <td>severe looseng  pedicle screws at l3 l5</td>\n",
       "      <td>train</td>\n",
       "      <td>C:\\Users\\Public\\Documents\\Data\\2018\\VQAMed2018...</td>\n",
       "      <td>what does preoperative ct demonstrate?</td>\n",
       "      <td>severe loosening of the pedicle screws at l3 a...</td>\n",
       "      <td>False</td>\n",
       "      <td>False</td>\n",
       "      <td>False</td>\n",
       "      <td>False</td>\n",
       "      <td>False</td>\n",
       "      <td>False</td>\n",
       "      <td>ct</td>\n",
       "      <td>[[0.13232862949371338, -2.720820188522339, -2....</td>\n",
       "      <td>[[0.13232862949371338, -2.720820188522339, -2....</td>\n",
       "    </tr>\n",
       "    <tr>\n",
       "      <th>6</th>\n",
       "      <td>6</td>\n",
       "      <td>NMJ-54-283-g002.jpg</td>\n",
       "      <td>what does axial contracted ct section show?</td>\n",
       "      <td>hypodense nodular tumor  right adrenal gl</td>\n",
       "      <td>train</td>\n",
       "      <td>C:\\Users\\Public\\Documents\\Data\\2018\\VQAMed2018...</td>\n",
       "      <td>what does the axial contracted CT section show?</td>\n",
       "      <td>hypodense nodular lesion in the right adrenal ...</td>\n",
       "      <td>True</td>\n",
       "      <td>False</td>\n",
       "      <td>False</td>\n",
       "      <td>False</td>\n",
       "      <td>False</td>\n",
       "      <td>False</td>\n",
       "      <td>ct</td>\n",
       "      <td>[[0.5904930830001831, -0.4496208727359772, -2....</td>\n",
       "      <td>[[0.5904930830001831, -0.4496208727359772, -2....</td>\n",
       "    </tr>\n",
       "    <tr>\n",
       "      <th>7</th>\n",
       "      <td>7</td>\n",
       "      <td>IJRI-19-235-g003.jpg</td>\n",
       "      <td>where does sagittal reformatted ct  pelvis sho...</td>\n",
       "      <td>separate posterior to urary bladder</td>\n",
       "      <td>train</td>\n",
       "      <td>C:\\Users\\Public\\Documents\\Data\\2018\\VQAMed2018...</td>\n",
       "      <td>where does sagittal reformatted ct scan of the...</td>\n",
       "      <td>separate and posterior to the urinary bladder</td>\n",
       "      <td>False</td>\n",
       "      <td>False</td>\n",
       "      <td>False</td>\n",
       "      <td>False</td>\n",
       "      <td>False</td>\n",
       "      <td>False</td>\n",
       "      <td>ct</td>\n",
       "      <td>[[-0.10627774894237518, 0.5153786540031433, -0...</td>\n",
       "      <td>[[-0.10627774894237518, 0.5153786540031433, -0...</td>\n",
       "    </tr>\n",
       "    <tr>\n",
       "      <th>8</th>\n",
       "      <td>8</td>\n",
       "      <td>1471-2482-13-16-2.jpg</td>\n",
       "      <td>what does coronal ct demonstrate?</td>\n",
       "      <td>cisional lumbar hernia</td>\n",
       "      <td>train</td>\n",
       "      <td>C:\\Users\\Public\\Documents\\Data\\2018\\VQAMed2018...</td>\n",
       "      <td>what does coronal ct scan demonstrate?</td>\n",
       "      <td>incisional lumbar hernia</td>\n",
       "      <td>False</td>\n",
       "      <td>False</td>\n",
       "      <td>False</td>\n",
       "      <td>False</td>\n",
       "      <td>False</td>\n",
       "      <td>False</td>\n",
       "      <td>ct</td>\n",
       "      <td>[[0.8510242104530334, -0.6614399552345276, -1....</td>\n",
       "      <td>[[0.8510242104530334, -0.6614399552345276, -1....</td>\n",
       "    </tr>\n",
       "    <tr>\n",
       "      <th>9</th>\n",
       "      <td>9</td>\n",
       "      <td>IJMR-136-221-g003.jpg</td>\n",
       "      <td>what shows site size farct three study patients?</td>\n",
       "      <td>mri</td>\n",
       "      <td>train</td>\n",
       "      <td>C:\\Users\\Public\\Documents\\Data\\2018\\VQAMed2018...</td>\n",
       "      <td>what shows site and size of infarct in three s...</td>\n",
       "      <td>magnetic resonance imaging</td>\n",
       "      <td>False</td>\n",
       "      <td>False</td>\n",
       "      <td>False</td>\n",
       "      <td>False</td>\n",
       "      <td>False</td>\n",
       "      <td>False</td>\n",
       "      <td>mri</td>\n",
       "      <td>[[-1.8525879383087158, -1.3275012969970703, 0....</td>\n",
       "      <td>[[-1.8525879383087158, -1.3275012969970703, 0....</td>\n",
       "    </tr>\n",
       "    <tr>\n",
       "      <th>10</th>\n",
       "      <td>10</td>\n",
       "      <td>1471-2474-15-218-3.jpg</td>\n",
       "      <td>what does coronal reformatted ct demonstrate m...</td>\n",
       "      <td>both distal femurs proximal tibias</td>\n",
       "      <td>train</td>\n",
       "      <td>C:\\Users\\Public\\Documents\\Data\\2018\\VQAMed2018...</td>\n",
       "      <td>what does coronal reformatted ct image demonst...</td>\n",
       "      <td>of both the distal femurs and proximal tibias</td>\n",
       "      <td>False</td>\n",
       "      <td>False</td>\n",
       "      <td>False</td>\n",
       "      <td>False</td>\n",
       "      <td>False</td>\n",
       "      <td>False</td>\n",
       "      <td>ct</td>\n",
       "      <td>[[1.618606686592102, -0.9580010771751404, -1.6...</td>\n",
       "      <td>[[1.618606686592102, -0.9580010771751404, -1.6...</td>\n",
       "    </tr>\n",
       "    <tr>\n",
       "      <th>11</th>\n",
       "      <td>11</td>\n",
       "      <td>1756-0500-6-97-3.jpg</td>\n",
       "      <td>where does ct show enlarged lymph node?</td>\n",
       "      <td>left axilla</td>\n",
       "      <td>train</td>\n",
       "      <td>C:\\Users\\Public\\Documents\\Data\\2018\\VQAMed2018...</td>\n",
       "      <td>where does ct scan show enlarged lymph node?</td>\n",
       "      <td>in the left axilla</td>\n",
       "      <td>False</td>\n",
       "      <td>False</td>\n",
       "      <td>False</td>\n",
       "      <td>False</td>\n",
       "      <td>False</td>\n",
       "      <td>False</td>\n",
       "      <td>ct</td>\n",
       "      <td>[[-0.6319534778594971, -1.5639665126800537, -3...</td>\n",
       "      <td>[[-0.6319534778594971, -1.5639665126800537, -3...</td>\n",
       "    </tr>\n",
       "    <tr>\n",
       "      <th>12</th>\n",
       "      <td>12</td>\n",
       "      <td>1749-8090-2-12-6.jpg</td>\n",
       "      <td>what shows complete healg  tumor?</td>\n",
       "      <td>post operative contrast ct</td>\n",
       "      <td>train</td>\n",
       "      <td>C:\\Users\\Public\\Documents\\Data\\2018\\VQAMed2018...</td>\n",
       "      <td>what shows complete healing of the lesion?</td>\n",
       "      <td>post operative contrast ct</td>\n",
       "      <td>True</td>\n",
       "      <td>False</td>\n",
       "      <td>False</td>\n",
       "      <td>False</td>\n",
       "      <td>False</td>\n",
       "      <td>False</td>\n",
       "      <td>ct</td>\n",
       "      <td>[[-0.41608211398124695, 0.8447149991989136, 0....</td>\n",
       "      <td>[[-0.41608211398124695, 0.8447149991989136, 0....</td>\n",
       "    </tr>\n",
       "  </tbody>\n",
       "</table>\n",
       "</div>"
      ],
      "text/plain": [
       "    index                   image_name  \\\n",
       "0       0                 rjv03401.jpg   \n",
       "1       1         AIAN-14-313-g002.jpg   \n",
       "2       2             wjem-11-76f3.jpg   \n",
       "3       3         ccr30002-0045-f3.jpg   \n",
       "4       4                 rjt01904.jpg   \n",
       "5       5  IJSS-7-2013-03-002-g002.jpg   \n",
       "6       6          NMJ-54-283-g002.jpg   \n",
       "7       7         IJRI-19-235-g003.jpg   \n",
       "8       8        1471-2482-13-16-2.jpg   \n",
       "9       9        IJMR-136-221-g003.jpg   \n",
       "10     10       1471-2474-15-218-3.jpg   \n",
       "11     11         1756-0500-6-97-3.jpg   \n",
       "12     12         1749-8090-2-12-6.jpg   \n",
       "\n",
       "                                             question  \\\n",
       "0                                 what does mri show?   \n",
       "1   where does axial section mri abdomen show hypo...   \n",
       "2       what do arrows denote  noncontrast ct pelvis?   \n",
       "3                                    what was normal?   \n",
       "4              what shows evidence a contaed rupture?   \n",
       "5              what does preoperative ct demonstrate?   \n",
       "6         what does axial contracted ct section show?   \n",
       "7   where does sagittal reformatted ct  pelvis sho...   \n",
       "8                   what does coronal ct demonstrate?   \n",
       "9    what shows site size farct three study patients?   \n",
       "10  what does coronal reformatted ct demonstrate m...   \n",
       "11            where does ct show enlarged lymph node?   \n",
       "12                  what shows complete healg  tumor?   \n",
       "\n",
       "                                               answer  group  \\\n",
       "0                              tumor at tail pancreas  train   \n",
       "1                                     distal pancreas  train   \n",
       "2   complex fluid collection with layerg consisten...  train   \n",
       "3                                 blood supply to bra  train   \n",
       "4                                  repeat ct  abdomen  train   \n",
       "5             severe looseng  pedicle screws at l3 l5  train   \n",
       "6           hypodense nodular tumor  right adrenal gl  train   \n",
       "7                 separate posterior to urary bladder  train   \n",
       "8                              cisional lumbar hernia  train   \n",
       "9                                                 mri  train   \n",
       "10                 both distal femurs proximal tibias  train   \n",
       "11                                        left axilla  train   \n",
       "12                         post operative contrast ct  train   \n",
       "\n",
       "                                                 path  \\\n",
       "0   C:\\Users\\Public\\Documents\\Data\\2018\\VQAMed2018...   \n",
       "1   C:\\Users\\Public\\Documents\\Data\\2018\\VQAMed2018...   \n",
       "2   C:\\Users\\Public\\Documents\\Data\\2018\\VQAMed2018...   \n",
       "3   C:\\Users\\Public\\Documents\\Data\\2018\\VQAMed2018...   \n",
       "4   C:\\Users\\Public\\Documents\\Data\\2018\\VQAMed2018...   \n",
       "5   C:\\Users\\Public\\Documents\\Data\\2018\\VQAMed2018...   \n",
       "6   C:\\Users\\Public\\Documents\\Data\\2018\\VQAMed2018...   \n",
       "7   C:\\Users\\Public\\Documents\\Data\\2018\\VQAMed2018...   \n",
       "8   C:\\Users\\Public\\Documents\\Data\\2018\\VQAMed2018...   \n",
       "9   C:\\Users\\Public\\Documents\\Data\\2018\\VQAMed2018...   \n",
       "10  C:\\Users\\Public\\Documents\\Data\\2018\\VQAMed2018...   \n",
       "11  C:\\Users\\Public\\Documents\\Data\\2018\\VQAMed2018...   \n",
       "12  C:\\Users\\Public\\Documents\\Data\\2018\\VQAMed2018...   \n",
       "\n",
       "                                    original_question  \\\n",
       "0                                 what does mri show?   \n",
       "1   where does axial section mri abdomen show hypo...   \n",
       "2   what do the arrows denote in the noncontrast c...   \n",
       "3                                    what was normal?   \n",
       "4         what shows evidence of a contained rupture?   \n",
       "5              what does preoperative ct demonstrate?   \n",
       "6     what does the axial contracted CT section show?   \n",
       "7   where does sagittal reformatted ct scan of the...   \n",
       "8              what does coronal ct scan demonstrate?   \n",
       "9   what shows site and size of infarct in three s...   \n",
       "10  what does coronal reformatted ct image demonst...   \n",
       "11       where does ct scan show enlarged lymph node?   \n",
       "12         what shows complete healing of the lesion?   \n",
       "\n",
       "                                      original_answer  tumor  hematoma  brain  \\\n",
       "0                          lesion at tail of pancreas   True     False  False   \n",
       "1                                  in distal pancreas  False     False  False   \n",
       "2   complex fluid collection with layering consist...  False      True  False   \n",
       "3                           blood supply to the brain  False     False  False   \n",
       "4                       repeat ct scan of the abdomen  False     False  False   \n",
       "5   severe loosening of the pedicle screws at l3 a...  False     False  False   \n",
       "6   hypodense nodular lesion in the right adrenal ...   True     False  False   \n",
       "7       separate and posterior to the urinary bladder  False     False  False   \n",
       "8                            incisional lumbar hernia  False     False  False   \n",
       "9                          magnetic resonance imaging  False     False  False   \n",
       "10      of both the distal femurs and proximal tibias  False     False  False   \n",
       "11                                 in the left axilla  False     False  False   \n",
       "12                         post operative contrast ct   True     False  False   \n",
       "\n",
       "    abdomen   neck  liver imaging_device  \\\n",
       "0     False  False  False            mri   \n",
       "1      True  False  False            mri   \n",
       "2     False  False  False             ct   \n",
       "3     False  False  False             ct   \n",
       "4      True  False  False             ct   \n",
       "5     False  False  False             ct   \n",
       "6     False  False  False             ct   \n",
       "7     False  False  False             ct   \n",
       "8     False  False  False             ct   \n",
       "9     False  False  False            mri   \n",
       "10    False  False  False             ct   \n",
       "11    False  False  False             ct   \n",
       "12    False  False  False             ct   \n",
       "\n",
       "                                     answer_embedding  \\\n",
       "0   [[3.8335671424865723, 0.9851416349411011, 0.60...   \n",
       "1   [[0.9880439043045044, 0.907943844795227, -1.30...   \n",
       "2   [[0.16135236620903015, -1.7424618005752563, -1...   \n",
       "3   [[1.421677589416504, 1.1374449729919434, 0.465...   \n",
       "4   [[3.0298147201538086, -0.026108086109161377, 1...   \n",
       "5   [[0.13232862949371338, -2.720820188522339, -2....   \n",
       "6   [[0.5904930830001831, -0.4496208727359772, -2....   \n",
       "7   [[-0.10627774894237518, 0.5153786540031433, -0...   \n",
       "8   [[0.8510242104530334, -0.6614399552345276, -1....   \n",
       "9   [[-1.8525879383087158, -1.3275012969970703, 0....   \n",
       "10  [[1.618606686592102, -0.9580010771751404, -1.6...   \n",
       "11  [[-0.6319534778594971, -1.5639665126800537, -3...   \n",
       "12  [[-0.41608211398124695, 0.8447149991989136, 0....   \n",
       "\n",
       "                                   question_embedding  \n",
       "0   [[3.8335671424865723, 0.9851416349411011, 0.60...  \n",
       "1   [[0.9880439043045044, 0.907943844795227, -1.30...  \n",
       "2   [[0.16135236620903015, -1.7424618005752563, -1...  \n",
       "3   [[1.421677589416504, 1.1374449729919434, 0.465...  \n",
       "4   [[3.0298147201538086, -0.026108086109161377, 1...  \n",
       "5   [[0.13232862949371338, -2.720820188522339, -2....  \n",
       "6   [[0.5904930830001831, -0.4496208727359772, -2....  \n",
       "7   [[-0.10627774894237518, 0.5153786540031433, -0...  \n",
       "8   [[0.8510242104530334, -0.6614399552345276, -1....  \n",
       "9   [[-1.8525879383087158, -1.3275012969970703, 0....  \n",
       "10  [[1.618606686592102, -0.9580010771751404, -1.6...  \n",
       "11  [[-0.6319534778594971, -1.5639665126800537, -3...  \n",
       "12  [[-0.41608211398124695, 0.8447149991989136, 0....  "
      ]
     },
     "execution_count": 138,
     "metadata": {},
     "output_type": "execute_result"
    }
   ],
   "source": [
    "print(len(data))\n",
    "data.head(13)"
   ]
  },
  {
   "cell_type": "code",
   "execution_count": 161,
   "metadata": {},
   "outputs": [],
   "source": [
    "# t = data.head(10).copy()\n",
    "\n",
    "# t.loc[::2,'group' ] ='validation'\n",
    "# t"
   ]
  },
  {
   "cell_type": "code",
   "execution_count": 160,
   "metadata": {},
   "outputs": [
    {
     "name": "stderr",
     "output_type": "stream",
     "text": [
      "c:\\local\\Anaconda3-4.1.1-Windows-x86_64\\envs\\conda_env\\lib\\site-packages\\IPython\\core\\interactiveshell.py:2963: PerformanceWarning: \n",
      "your performance may suffer as PyTables will pickle object types that it cannot\n",
      "map directly to c-types [inferred_type->mixed,key->block2_values] [items->['image_name', 'question', 'answer', 'group', 'path', 'original_question', 'original_answer', 'imaging_device', 'answer_embedding', 'question_embedding']]\n",
      "\n",
      "  exec(code_obj, self.user_global_ns, self.user_ns)\n"
     ]
    }
   ],
   "source": [
    "# data_path = 'C:\\\\Users\\\\avitu\\\\Documents\\\\GitHub\\\\VQA-MED\\\\VQA-MED\\\\VQA.Python\\\\tests\\\\data_for_test\\\\train_data.hdf'\n",
    "\n",
    "# with pd.HDFStore(data_path) as store:\n",
    "#     store['data'] = t\n",
    "    "
   ]
  },
  {
   "cell_type": "code",
   "execution_count": 103,
   "metadata": {},
   "outputs": [
    {
     "data": {
      "text/plain": [
       "count      5913\n",
       "unique        2\n",
       "top       False\n",
       "freq       4267\n",
       "Name: y, dtype: object"
      ]
     },
     "execution_count": 103,
     "metadata": {},
     "output_type": "execute_result"
    }
   ],
   "source": [
    "def get_classifier_data(df_arg):\n",
    "    df = df_arg.copy()\n",
    "    df['y1'] = df.answer.isin(imaging_devices)#.apply(lambda ans: )[][['question','answer']]\n",
    "    df['y2'] = df.question.apply(lambda q: q.startswith('what shows'))\n",
    "    df['y'] = df['y1'] | df['y2']\n",
    "    df['x'] = df.question_embedding\n",
    "    return df[['question','y','imaging_device','answer','x']]\n",
    "\n",
    "df = get_classifier_data(data)\n",
    "desc = df.y.describe()\n",
    "desc"
   ]
  },
  {
   "cell_type": "code",
   "execution_count": 106,
   "metadata": {},
   "outputs": [
    {
     "data": {
      "text/plain": [
       "0.721630306105192"
      ]
     },
     "execution_count": 106,
     "metadata": {},
     "output_type": "execute_result"
    }
   ],
   "source": [
    "squeue_factor = desc['freq'] / desc['count']      \n",
    "squeue_factor"
   ]
  },
  {
   "cell_type": "code",
   "execution_count": 102,
   "metadata": {},
   "outputs": [
    {
     "data": {
      "text/html": [
       "<div>\n",
       "<style scoped>\n",
       "    .dataframe tbody tr th:only-of-type {\n",
       "        vertical-align: middle;\n",
       "    }\n",
       "\n",
       "    .dataframe tbody tr th {\n",
       "        vertical-align: top;\n",
       "    }\n",
       "\n",
       "    .dataframe thead th {\n",
       "        text-align: right;\n",
       "    }\n",
       "</style>\n",
       "<table border=\"1\" class=\"dataframe\">\n",
       "  <thead>\n",
       "    <tr style=\"text-align: right;\">\n",
       "      <th></th>\n",
       "      <th>question</th>\n",
       "      <th>y</th>\n",
       "      <th>imaging_device</th>\n",
       "      <th>answer</th>\n",
       "      <th>x</th>\n",
       "    </tr>\n",
       "  </thead>\n",
       "  <tbody>\n",
       "    <tr>\n",
       "      <th>0</th>\n",
       "      <td>what does mri show?</td>\n",
       "      <td>0</td>\n",
       "      <td>mri</td>\n",
       "      <td>tumor at tail pancreas</td>\n",
       "      <td>[[3.8335671424865723, 0.9851416349411011, 0.60...</td>\n",
       "    </tr>\n",
       "    <tr>\n",
       "      <th>1</th>\n",
       "      <td>where does axial section mri abdomen show hypo...</td>\n",
       "      <td>0</td>\n",
       "      <td>mri</td>\n",
       "      <td>distal pancreas</td>\n",
       "      <td>[[0.9880439043045044, 0.907943844795227, -1.30...</td>\n",
       "    </tr>\n",
       "    <tr>\n",
       "      <th>2</th>\n",
       "      <td>what do arrows denote  noncontrast ct pelvis?</td>\n",
       "      <td>0</td>\n",
       "      <td>ct</td>\n",
       "      <td>complex fluid collection with layerg consisten...</td>\n",
       "      <td>[[0.16135236620903015, -1.7424618005752563, -1...</td>\n",
       "    </tr>\n",
       "    <tr>\n",
       "      <th>3</th>\n",
       "      <td>what was normal?</td>\n",
       "      <td>0</td>\n",
       "      <td>ct</td>\n",
       "      <td>blood supply to bra</td>\n",
       "      <td>[[1.421677589416504, 1.1374449729919434, 0.465...</td>\n",
       "    </tr>\n",
       "    <tr>\n",
       "      <th>4</th>\n",
       "      <td>what shows evidence a contaed rupture?</td>\n",
       "      <td>1</td>\n",
       "      <td>ct</td>\n",
       "      <td>repeat ct  abdomen</td>\n",
       "      <td>[[3.0298147201538086, -0.026108086109161377, 1...</td>\n",
       "    </tr>\n",
       "    <tr>\n",
       "      <th>5</th>\n",
       "      <td>what does preoperative ct demonstrate?</td>\n",
       "      <td>0</td>\n",
       "      <td>ct</td>\n",
       "      <td>severe looseng  pedicle screws at l3 l5</td>\n",
       "      <td>[[0.13232862949371338, -2.720820188522339, -2....</td>\n",
       "    </tr>\n",
       "    <tr>\n",
       "      <th>6</th>\n",
       "      <td>what does axial contracted ct section show?</td>\n",
       "      <td>0</td>\n",
       "      <td>ct</td>\n",
       "      <td>hypodense nodular tumor  right adrenal gl</td>\n",
       "      <td>[[0.5904930830001831, -0.4496208727359772, -2....</td>\n",
       "    </tr>\n",
       "    <tr>\n",
       "      <th>7</th>\n",
       "      <td>where does sagittal reformatted ct  pelvis sho...</td>\n",
       "      <td>0</td>\n",
       "      <td>ct</td>\n",
       "      <td>separate posterior to urary bladder</td>\n",
       "      <td>[[-0.10627774894237518, 0.5153786540031433, -0...</td>\n",
       "    </tr>\n",
       "    <tr>\n",
       "      <th>8</th>\n",
       "      <td>what does coronal ct demonstrate?</td>\n",
       "      <td>0</td>\n",
       "      <td>ct</td>\n",
       "      <td>cisional lumbar hernia</td>\n",
       "      <td>[[0.8510242104530334, -0.6614399552345276, -1....</td>\n",
       "    </tr>\n",
       "    <tr>\n",
       "      <th>9</th>\n",
       "      <td>what shows site size farct three study patients?</td>\n",
       "      <td>1</td>\n",
       "      <td>mri</td>\n",
       "      <td>mri</td>\n",
       "      <td>[[-1.8525879383087158, -1.3275012969970703, 0....</td>\n",
       "    </tr>\n",
       "    <tr>\n",
       "      <th>10</th>\n",
       "      <td>what does coronal reformatted ct demonstrate m...</td>\n",
       "      <td>0</td>\n",
       "      <td>ct</td>\n",
       "      <td>both distal femurs proximal tibias</td>\n",
       "      <td>[[1.618606686592102, -0.9580010771751404, -1.6...</td>\n",
       "    </tr>\n",
       "    <tr>\n",
       "      <th>11</th>\n",
       "      <td>where does ct show enlarged lymph node?</td>\n",
       "      <td>0</td>\n",
       "      <td>ct</td>\n",
       "      <td>left axilla</td>\n",
       "      <td>[[-0.6319534778594971, -1.5639665126800537, -3...</td>\n",
       "    </tr>\n",
       "    <tr>\n",
       "      <th>12</th>\n",
       "      <td>what shows complete healg  tumor?</td>\n",
       "      <td>1</td>\n",
       "      <td>ct</td>\n",
       "      <td>post operative contrast ct</td>\n",
       "      <td>[[-0.41608211398124695, 0.8447149991989136, 0....</td>\n",
       "    </tr>\n",
       "  </tbody>\n",
       "</table>\n",
       "</div>"
      ],
      "text/plain": [
       "                                             question  y imaging_device  \\\n",
       "0                                 what does mri show?  0            mri   \n",
       "1   where does axial section mri abdomen show hypo...  0            mri   \n",
       "2       what do arrows denote  noncontrast ct pelvis?  0             ct   \n",
       "3                                    what was normal?  0             ct   \n",
       "4              what shows evidence a contaed rupture?  1             ct   \n",
       "5              what does preoperative ct demonstrate?  0             ct   \n",
       "6         what does axial contracted ct section show?  0             ct   \n",
       "7   where does sagittal reformatted ct  pelvis sho...  0             ct   \n",
       "8                   what does coronal ct demonstrate?  0             ct   \n",
       "9    what shows site size farct three study patients?  1            mri   \n",
       "10  what does coronal reformatted ct demonstrate m...  0             ct   \n",
       "11            where does ct show enlarged lymph node?  0             ct   \n",
       "12                  what shows complete healg  tumor?  1             ct   \n",
       "\n",
       "                                               answer  \\\n",
       "0                              tumor at tail pancreas   \n",
       "1                                     distal pancreas   \n",
       "2   complex fluid collection with layerg consisten...   \n",
       "3                                 blood supply to bra   \n",
       "4                                  repeat ct  abdomen   \n",
       "5             severe looseng  pedicle screws at l3 l5   \n",
       "6           hypodense nodular tumor  right adrenal gl   \n",
       "7                 separate posterior to urary bladder   \n",
       "8                              cisional lumbar hernia   \n",
       "9                                                 mri   \n",
       "10                 both distal femurs proximal tibias   \n",
       "11                                        left axilla   \n",
       "12                         post operative contrast ct   \n",
       "\n",
       "                                                    x  \n",
       "0   [[3.8335671424865723, 0.9851416349411011, 0.60...  \n",
       "1   [[0.9880439043045044, 0.907943844795227, -1.30...  \n",
       "2   [[0.16135236620903015, -1.7424618005752563, -1...  \n",
       "3   [[1.421677589416504, 1.1374449729919434, 0.465...  \n",
       "4   [[3.0298147201538086, -0.026108086109161377, 1...  \n",
       "5   [[0.13232862949371338, -2.720820188522339, -2....  \n",
       "6   [[0.5904930830001831, -0.4496208727359772, -2....  \n",
       "7   [[-0.10627774894237518, 0.5153786540031433, -0...  \n",
       "8   [[0.8510242104530334, -0.6614399552345276, -1....  \n",
       "9   [[-1.8525879383087158, -1.3275012969970703, 0....  \n",
       "10  [[1.618606686592102, -0.9580010771751404, -1.6...  \n",
       "11  [[-0.6319534778594971, -1.5639665126800537, -3...  \n",
       "12  [[-0.41608211398124695, 0.8447149991989136, 0....  "
      ]
     },
     "execution_count": 102,
     "metadata": {},
     "output_type": "execute_result"
    }
   ],
   "source": [
    "df.loc[df.y==False,'y'] = 0\n",
    "df.loc[df.y==True,'y'] = 1\n",
    "df.head(13)"
   ]
  },
  {
   "cell_type": "code",
   "execution_count": 7,
   "metadata": {},
   "outputs": [],
   "source": [
    "X= df['x'].values\n",
    "y = df['y'].values\n",
    "\n",
    "X_train, X_test, y_train, y_test = train_test_split(X, y, test_size=0.32, random_state=42)"
   ]
  },
  {
   "cell_type": "code",
   "execution_count": 8,
   "metadata": {},
   "outputs": [
    {
     "name": "stdout",
     "output_type": "stream",
     "text": [
      "Train Length X, y: (4020, 4020)\n",
      "Test Length X, y: (1893, 1893)\n"
     ]
    }
   ],
   "source": [
    "print(f'Train Length X, y: {len(X_train),len(y_train)}')\n",
    "print(f'Test Length X, y: {len(X_test),len(y_test)}')"
   ]
  },
  {
   "cell_type": "code",
   "execution_count": 9,
   "metadata": {},
   "outputs": [],
   "source": [
    "import numpy as np\n",
    "from sklearn.pipeline import Pipeline\n",
    "from sklearn.feature_extraction.text import CountVectorizer\n",
    "from sklearn.svm import LinearSVC\n",
    "from sklearn.feature_extraction.text import TfidfTransformer\n",
    "from sklearn.multiclass import OneVsRestClassifier\n",
    "from sklearn.preprocessing import MultiLabelBinarizer\n",
    "# from sklearn.naive_bayes import \n",
    "from sklearn.preprocessing import LabelBinarizer\n",
    "from sklearn.neural_network import MLPClassifier\n"
   ]
  },
  {
   "cell_type": "code",
   "execution_count": 10,
   "metadata": {},
   "outputs": [],
   "source": [
    "def format_inputs(x, y):\n",
    "    new_x = [v[0] for v in x]\n",
    "    new_y = list(y)\n",
    "    return new_x, new_y\n"
   ]
  },
  {
   "cell_type": "code",
   "execution_count": 11,
   "metadata": {},
   "outputs": [],
   "source": [
    "X, y = format_inputs(X_train, y_train)\n",
    "new_X_test, new_y_test = format_inputs(X_test, y_test)"
   ]
  },
  {
   "cell_type": "code",
   "execution_count": 12,
   "metadata": {},
   "outputs": [],
   "source": [
    "def evaluate(clf, x_test, y_test):\n",
    "    preds = clf.predict(x_test)\n",
    "    #new_y_tes\n",
    "    z = list(zip(preds,y_test))\n",
    "    total = len(z)\n",
    "    ok = len([tpl for tpl in z if tpl[0] ==tpl[1] ])\n",
    "    acc =  1.0*ok/total\n",
    "    #print(acc)\n",
    "    # preds\n",
    "    return acc"
   ]
  },
  {
   "cell_type": "code",
   "execution_count": 41,
   "metadata": {},
   "outputs": [
    {
     "data": {
      "text/plain": [
       "[[8, 6, 4, 5, 4],\n",
       " [4, 6, 5, 7, 8],\n",
       " [8, 6, 4, 3, 5],\n",
       " [6, 4, 8, 7, 4],\n",
       " [4, 3, 4, 8, 6],\n",
       " [4, 7, 6, 8, 3],\n",
       " [6, 4, 5, 7, 4],\n",
       " [4, 3, 4, 6, 5],\n",
       " [5, 7, 3, 4, 6],\n",
       " [4, 7, 3, 6, 4],\n",
       " [4, 7, 5, 4, 8],\n",
       " [4, 8, 4, 3, 5],\n",
       " [4, 3, 7, 5, 8],\n",
       " [7, 4, 4, 8, 3],\n",
       " [5, 7, 4, 4, 3],\n",
       " [6, 5, 4, 7, 8],\n",
       " [8, 3, 4, 6, 5],\n",
       " [6, 7, 8, 5, 3],\n",
       " [6, 7, 4, 3, 8],\n",
       " [3, 6, 7, 5, 4],\n",
       " [3, 4, 8, 5, 7]]"
      ]
     },
     "execution_count": 41,
     "metadata": {},
     "output_type": "execute_result"
    }
   ],
   "source": [
    "import itertools\n",
    "import random\n",
    "\n",
    "combs_2 = list(itertools.combinations([5,4,3,2], 2))\n",
    "combs_3 = list(itertools.combinations([5,4,3,2], 3))\n",
    "combs_4 = list(itertools.combinations([5,4,3,2], 4))\n",
    "combs = combs_2 + combs_3 + combs_4\n",
    "combs = [list(c) for c in combs if sum(c)<= 16]\n",
    "\n",
    "combs = [list(c) for c in itertools.combinations([4,6,8,5,4,7,3], 5)]\n",
    "[random.shuffle(c) for c in combs]\n",
    "combs"
   ]
  },
  {
   "cell_type": "code",
   "execution_count": 14,
   "metadata": {},
   "outputs": [],
   "source": [
    "ClassifierInfo = namedtuple('ClassifierInfo', ['classifier','res', 'accuracy'])"
   ]
  },
  {
   "cell_type": "code",
   "execution_count": 65,
   "metadata": {},
   "outputs": [],
   "source": [
    "history = set(history)\n",
    "history = sorted(history, key=lambda info: info.accuracy, reverse=True)\n",
    "history\n",
    "summary = [(str(info.classifier.hidden_layer_sizes) ,info.accuracy) for info in history]\n",
    "# summary"
   ]
  },
  {
   "cell_type": "code",
   "execution_count": 24,
   "metadata": {},
   "outputs": [],
   "source": [
    "history = []"
   ]
  },
  {
   "cell_type": "code",
   "execution_count": 127,
   "metadata": {},
   "outputs": [
    {
     "name": "stderr",
     "output_type": "stream",
     "text": [
      "working on [2, 4]. max acc: None: 100%|██████████████████████████████████████████████████| 1/1 [00:02<00:00,  2.94s/it]\n"
     ]
    }
   ],
   "source": [
    "# errors = []\n",
    "res = []\n",
    "combs =[[2, 4]]\n",
    "# pbar = tqdm(combs)\n",
    "for hidden_layer in pbar:\n",
    "    sorted_results = sorted(res, key=lambda info: info.accuracy, reverse=True)\n",
    "    max_acc = sorted_results[0].accuracy if sorted_results else None\n",
    "    \n",
    "    pbar.set_description(f'working on {hidden_layer}. max acc: {max_acc}')\n",
    "    try:\n",
    "        solver = 'adam'#'lbfgs'\n",
    "        clf = MLPClassifier(solver=solver, alpha=1e-5, hidden_layer_sizes=hidden_layer, random_state=1, early_stopping=True)\n",
    "        c = clf.fit(X, y)                         \n",
    "        acc = evaluate(clf, new_X_test, new_y_test)\n",
    "        curr_res = ClassifierInfo(classifier=clf,res=c,accuracy=acc)\n",
    "        res.append(curr_res)\n",
    "        \n",
    "    except Exception as ex:\n",
    "        errors.append(str(ex))\n",
    "if errors:\n",
    "    print(errors)"
   ]
  },
  {
   "cell_type": "code",
   "execution_count": null,
   "metadata": {},
   "outputs": [],
   "source": [
    "history.extend(res)"
   ]
  },
  {
   "cell_type": "code",
   "execution_count": 108,
   "metadata": {},
   "outputs": [],
   "source": [
    "chosen  = history[1]\n",
    "clf = chosen.classifier"
   ]
  },
  {
   "cell_type": "code",
   "execution_count": 135,
   "metadata": {},
   "outputs": [
    {
     "data": {
      "text/plain": [
       "MLPClassifier(activation='relu', alpha=1e-05, batch_size='auto', beta_1=0.9,\n",
       "       beta_2=0.999, early_stopping=True, epsilon=1e-08,\n",
       "       hidden_layer_sizes=[2, 4], learning_rate='constant',\n",
       "       learning_rate_init=0.001, max_iter=200, momentum=0.9,\n",
       "       nesterovs_momentum=True, power_t=0.5, random_state=1, shuffle=True,\n",
       "       solver='adam', tol=0.0001, validation_fraction=0.1, verbose=False,\n",
       "       warm_start=False)"
      ]
     },
     "execution_count": 135,
     "metadata": {},
     "output_type": "execute_result"
    }
   ],
   "source": [
    "dir(clf)\n",
    "clf\n",
    "# clf.validation_fraction"
   ]
  },
  {
   "cell_type": "code",
   "execution_count": 134,
   "metadata": {},
   "outputs": [
    {
     "data": {
      "image/png": "[encoded data removed]",
      "text/plain": [
       "<Figure size 432x288 with 1 Axes>"
      ]
     },
     "metadata": {},
     "output_type": "display_data"
    }
   ],
   "source": [
    "\n",
    "plt.ylabel('cost')\n",
    "plt.xlabel('iterations')\n",
    "plt.title(\"Learning rate =\" + str(0.001))\n",
    "plt.plot(clf.loss_curve_)\n",
    "plt.show()"
   ]
  },
  {
   "cell_type": "code",
   "execution_count": null,
   "metadata": {},
   "outputs": [],
   "source": [
    "path = 'C:\\\\Users\\\\Public\\\\Documents\\\\Data\\\\2018\\\\imaging_dvices_classifiers\\\\question_classifier.pickle'\n",
    "File.dump_pickle(clf, path)\n",
    "\n"
   ]
  },
  {
   "cell_type": "markdown",
   "metadata": {},
   "source": [
    "#### Manualy take a look at results"
   ]
  },
  {
   "cell_type": "code",
   "execution_count": 75,
   "metadata": {},
   "outputs": [
    {
     "data": {
      "text/plain": [
       "array([1, 0, 0, ..., 1, 1, 1])"
      ]
     },
     "execution_count": 75,
     "metadata": {},
     "output_type": "execute_result"
    }
   ],
   "source": [
    "predicted = clf.predict(new_X_test)\n",
    "predicted"
   ]
  },
  {
   "cell_type": "code",
   "execution_count": 76,
   "metadata": {},
   "outputs": [
    {
     "name": "stdout",
     "output_type": "stream",
     "text": [
      "0.9286846275752774\n"
     ]
    }
   ],
   "source": [
    "z = list(zip(predicted,new_y_test))\n",
    "total = len(z)\n",
    "ok = len([tpl for tpl in z if tpl[0] ==tpl[1] ])\n",
    "print( 1.0*ok/total)"
   ]
  },
  {
   "cell_type": "code",
   "execution_count": 96,
   "metadata": {},
   "outputs": [
    {
     "name": "stdout",
     "output_type": "stream",
     "text": [
      "0. what does mri show? => SUCCESS (Predicted: 0)\n",
      "1. where does axial section mri abdomen show hypoechoic mass? => SUCCESS (Predicted: 0)\n",
      "2. what do arrows denote  noncontrast ct pelvis? => SUCCESS (Predicted: 0)\n",
      "3. what was normal? => SUCCESS (Predicted: 0)\n",
      "4. what shows evidence a contaed rupture? => SUCCESS (Predicted: 0)\n",
      "5. what does preoperative ct demonstrate? => SUCCESS (Predicted: 0)\n",
      "6. what does axial contracted ct section show? => SUCCESS (Predicted: 0)\n",
      "7. where does sagittal reformatted ct  pelvis show a contrastfilled vaga? => SUCCESS (Predicted: 0)\n",
      "8. what does coronal ct demonstrate? => SUCCESS (Predicted: 0)\n",
      "9. what shows site size farct three study patients? => SUCCESS (Predicted: 0)\n",
      "10. what does coronal reformatted ct demonstrate multiple bilateral ns ? => SUCCESS (Predicted: 0)\n",
      "11. where does ct show enlarged lymph node? => SUCCESS (Predicted: 0)\n",
      "12. what shows complete healg  tumor? => SUCCESS (Predicted: 0)\n",
      "13. what does mri bra show? => SUCCESS (Predicted: 0)\n",
      "14. where does ct show a cholecysto duodenal fistula an impacted gallstone? => SUCCESS (Predicted: 0)\n",
      "15. what shows dilatation  vertebrobasilar artery  ternal carotid arteries? => SUCCESS (Predicted: 0)\n",
      "16. what are shown as areas without signal tensity? => SUCCESS (Predicted: 0)\n",
      "17. what shows dilated small bowel loops concentric thickeng caecal wall close to ileocaecal junction? => SUCCESS (Predicted: 0)\n",
      "18. what shows starfield fdgs fes? => SUCCESS (Predicted: 0)\n",
      "19. what does coronal ct show? => SUCCESS (Predicted: 0)\n"
     ]
    }
   ],
   "source": [
    "target_names = new_y_test\n",
    "for i, (item, label_idx) in enumerate(list(zip(X_test, predicted))[:20]):\n",
    "    question = df.loc[i].values[0]    \n",
    "    label = target_names[label_idx]       \n",
    "    expected = target_names[y_test[label_idx]]\n",
    "    if label == expected:\n",
    "        res = 'SUCCESS'\n",
    "    else:\n",
    "        res = 'FAIL'\n",
    "    print(f'{i}. {question} => {res} (Predicted: {label})')"
   ]
  },
  {
   "cell_type": "code",
   "execution_count": 75,
   "metadata": {},
   "outputs": [
    {
     "data": {
      "text/plain": [
       "{'accuracy': make_scorer(accuracy_score), 'prec': 'precision'}"
      ]
     },
     "execution_count": 75,
     "metadata": {},
     "output_type": "execute_result"
    }
   ],
   "source": [
    "from sklearn.metrics import accuracy_score\n",
    "from sklearn.metrics import make_scorer\n",
    "scoring = {'accuracy': make_scorer(accuracy_score),'prec': 'precision'}\n",
    "scoring"
   ]
  }
 ],
 "metadata": {
  "kernelspec": {
   "display_name": "Python 3",
   "language": "python",
   "name": "python3"
  },
  "language_info": {
   "codemirror_mode": {
    "name": "ipython",
    "version": 3
   },
   "file_extension": ".py",
   "mimetype": "text/x-python",
   "name": "python",
   "nbconvert_exporter": "python",
   "pygments_lexer": "ipython3",
   "version": "3.8.8"
  }
 },
 "nbformat": 4,
 "nbformat_minor": 2
}
